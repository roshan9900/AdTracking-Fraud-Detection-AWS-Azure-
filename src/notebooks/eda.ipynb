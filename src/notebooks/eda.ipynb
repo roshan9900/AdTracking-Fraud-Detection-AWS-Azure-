{
 "cells": [
  {
   "cell_type": "code",
   "execution_count": 3,
   "id": "20f89273",
   "metadata": {},
   "outputs": [],
   "source": [
    "# !kaggle competitions download -c talkingdata-adtracking-fraud-detection"
   ]
  },
  {
   "cell_type": "code",
   "execution_count": 4,
   "id": "d33cfaf9",
   "metadata": {},
   "outputs": [],
   "source": [
    "# import zipfile\n",
    "# import os\n",
    "\n",
    "# zip_path = r\"C:/Users/hp/Documents/AdTrackingFruadDetection/src/notebooks/talkingdata-adtracking-fraud-detection.zip\"\n",
    "# extract_path = r\"C:/Users/hp/Documents/AdTrackingFruadDetection/data\"\n",
    "\n",
    "# # Create folder if it doesn’t exist\n",
    "# os.makedirs(extract_path, exist_ok=True)\n",
    "\n",
    "# # Extract the ZIP\n",
    "# with zipfile.ZipFile(zip_path, 'r') as zip_ref:\n",
    "#     zip_ref.extractall(extract_path)\n",
    "\n",
    "# print(\"✅ Extraction completed!\")\n"
   ]
  },
  {
   "cell_type": "code",
   "execution_count": 5,
   "id": "dcab6451",
   "metadata": {},
   "outputs": [],
   "source": [
    "import pandas as pd"
   ]
  },
  {
   "cell_type": "code",
   "execution_count": 6,
   "id": "81a5d4a8",
   "metadata": {},
   "outputs": [],
   "source": [
    "df = pd.read_csv(r'C:\\Users\\hp\\Documents\\AdTrackingFruadDetection\\data\\train_sample.csv')"
   ]
  },
  {
   "cell_type": "code",
   "execution_count": 7,
   "id": "14a2ee37",
   "metadata": {},
   "outputs": [
    {
     "data": {
      "text/html": [
       "<div>\n",
       "<style scoped>\n",
       "    .dataframe tbody tr th:only-of-type {\n",
       "        vertical-align: middle;\n",
       "    }\n",
       "\n",
       "    .dataframe tbody tr th {\n",
       "        vertical-align: top;\n",
       "    }\n",
       "\n",
       "    .dataframe thead th {\n",
       "        text-align: right;\n",
       "    }\n",
       "</style>\n",
       "<table border=\"1\" class=\"dataframe\">\n",
       "  <thead>\n",
       "    <tr style=\"text-align: right;\">\n",
       "      <th></th>\n",
       "      <th>ip</th>\n",
       "      <th>app</th>\n",
       "      <th>device</th>\n",
       "      <th>os</th>\n",
       "      <th>channel</th>\n",
       "      <th>click_time</th>\n",
       "      <th>attributed_time</th>\n",
       "      <th>is_attributed</th>\n",
       "    </tr>\n",
       "  </thead>\n",
       "  <tbody>\n",
       "    <tr>\n",
       "      <th>0</th>\n",
       "      <td>87540</td>\n",
       "      <td>12</td>\n",
       "      <td>1</td>\n",
       "      <td>13</td>\n",
       "      <td>497</td>\n",
       "      <td>2017-11-07 09:30:38</td>\n",
       "      <td>NaN</td>\n",
       "      <td>0</td>\n",
       "    </tr>\n",
       "    <tr>\n",
       "      <th>1</th>\n",
       "      <td>105560</td>\n",
       "      <td>25</td>\n",
       "      <td>1</td>\n",
       "      <td>17</td>\n",
       "      <td>259</td>\n",
       "      <td>2017-11-07 13:40:27</td>\n",
       "      <td>NaN</td>\n",
       "      <td>0</td>\n",
       "    </tr>\n",
       "    <tr>\n",
       "      <th>2</th>\n",
       "      <td>101424</td>\n",
       "      <td>12</td>\n",
       "      <td>1</td>\n",
       "      <td>19</td>\n",
       "      <td>212</td>\n",
       "      <td>2017-11-07 18:05:24</td>\n",
       "      <td>NaN</td>\n",
       "      <td>0</td>\n",
       "    </tr>\n",
       "    <tr>\n",
       "      <th>3</th>\n",
       "      <td>94584</td>\n",
       "      <td>13</td>\n",
       "      <td>1</td>\n",
       "      <td>13</td>\n",
       "      <td>477</td>\n",
       "      <td>2017-11-07 04:58:08</td>\n",
       "      <td>NaN</td>\n",
       "      <td>0</td>\n",
       "    </tr>\n",
       "    <tr>\n",
       "      <th>4</th>\n",
       "      <td>68413</td>\n",
       "      <td>12</td>\n",
       "      <td>1</td>\n",
       "      <td>1</td>\n",
       "      <td>178</td>\n",
       "      <td>2017-11-09 09:00:09</td>\n",
       "      <td>NaN</td>\n",
       "      <td>0</td>\n",
       "    </tr>\n",
       "  </tbody>\n",
       "</table>\n",
       "</div>"
      ],
      "text/plain": [
       "       ip  app  device  os  channel           click_time attributed_time  \\\n",
       "0   87540   12       1  13      497  2017-11-07 09:30:38             NaN   \n",
       "1  105560   25       1  17      259  2017-11-07 13:40:27             NaN   \n",
       "2  101424   12       1  19      212  2017-11-07 18:05:24             NaN   \n",
       "3   94584   13       1  13      477  2017-11-07 04:58:08             NaN   \n",
       "4   68413   12       1   1      178  2017-11-09 09:00:09             NaN   \n",
       "\n",
       "   is_attributed  \n",
       "0              0  \n",
       "1              0  \n",
       "2              0  \n",
       "3              0  \n",
       "4              0  "
      ]
     },
     "execution_count": 7,
     "metadata": {},
     "output_type": "execute_result"
    }
   ],
   "source": [
    "df.head()"
   ]
  },
  {
   "cell_type": "code",
   "execution_count": 8,
   "id": "02fc51a0",
   "metadata": {},
   "outputs": [
    {
     "name": "stdout",
     "output_type": "stream",
     "text": [
      "<class 'pandas.core.frame.DataFrame'>\n",
      "RangeIndex: 100000 entries, 0 to 99999\n",
      "Data columns (total 8 columns):\n",
      " #   Column           Non-Null Count   Dtype \n",
      "---  ------           --------------   ----- \n",
      " 0   ip               100000 non-null  int64 \n",
      " 1   app              100000 non-null  int64 \n",
      " 2   device           100000 non-null  int64 \n",
      " 3   os               100000 non-null  int64 \n",
      " 4   channel          100000 non-null  int64 \n",
      " 5   click_time       100000 non-null  object\n",
      " 6   attributed_time  227 non-null     object\n",
      " 7   is_attributed    100000 non-null  int64 \n",
      "dtypes: int64(6), object(2)\n",
      "memory usage: 6.1+ MB\n"
     ]
    }
   ],
   "source": [
    "df.info()"
   ]
  },
  {
   "cell_type": "code",
   "execution_count": 9,
   "id": "ef018ca9",
   "metadata": {},
   "outputs": [
    {
     "data": {
      "text/plain": [
       "ip\n",
       "5348      669\n",
       "5314      616\n",
       "73487     439\n",
       "73516     399\n",
       "53454     280\n",
       "         ... \n",
       "94895       1\n",
       "251613      1\n",
       "3730        1\n",
       "156154      1\n",
       "32684       1\n",
       "Name: count, Length: 34857, dtype: int64"
      ]
     },
     "execution_count": 9,
     "metadata": {},
     "output_type": "execute_result"
    }
   ],
   "source": [
    "df['ip'].value_counts()"
   ]
  },
  {
   "cell_type": "code",
   "execution_count": 10,
   "id": "7e9d4897",
   "metadata": {},
   "outputs": [
    {
     "data": {
      "text/plain": [
       "app\n",
       "3      18279\n",
       "12     13198\n",
       "2      11737\n",
       "9       8992\n",
       "15      8595\n",
       "       ...  \n",
       "407        1\n",
       "116        1\n",
       "92         1\n",
       "115        1\n",
       "261        1\n",
       "Name: count, Length: 161, dtype: int64"
      ]
     },
     "execution_count": 10,
     "metadata": {},
     "output_type": "execute_result"
    }
   ],
   "source": [
    "df['app'].value_counts()"
   ]
  },
  {
   "cell_type": "code",
   "execution_count": 11,
   "id": "1323bfab",
   "metadata": {},
   "outputs": [
    {
     "data": {
      "text/plain": [
       "device\n",
       "1       94338\n",
       "2        4345\n",
       "0         541\n",
       "3032      371\n",
       "3543      151\n",
       "        ...  \n",
       "928         1\n",
       "220         1\n",
       "49          1\n",
       "1042        1\n",
       "241         1\n",
       "Name: count, Length: 100, dtype: int64"
      ]
     },
     "execution_count": 11,
     "metadata": {},
     "output_type": "execute_result"
    }
   ],
   "source": [
    "df['device'].value_counts()"
   ]
  },
  {
   "cell_type": "code",
   "execution_count": 12,
   "id": "8258582b",
   "metadata": {},
   "outputs": [
    {
     "data": {
      "text/plain": [
       "os\n",
       "19     23870\n",
       "13     21223\n",
       "17      5232\n",
       "18      4830\n",
       "22      4039\n",
       "       ...  \n",
       "174        1\n",
       "207        1\n",
       "114        1\n",
       "185        1\n",
       "193        1\n",
       "Name: count, Length: 130, dtype: int64"
      ]
     },
     "execution_count": 12,
     "metadata": {},
     "output_type": "execute_result"
    }
   ],
   "source": [
    "df['os'].value_counts()"
   ]
  },
  {
   "cell_type": "code",
   "execution_count": 13,
   "id": "02edc8f4",
   "metadata": {},
   "outputs": [
    {
     "data": {
      "text/plain": [
       "channel\n",
       "280    8114\n",
       "245    4802\n",
       "107    4543\n",
       "477    3960\n",
       "134    3224\n",
       "       ... \n",
       "114       1\n",
       "474       1\n",
       "261       1\n",
       "465       1\n",
       "4         1\n",
       "Name: count, Length: 161, dtype: int64"
      ]
     },
     "execution_count": 13,
     "metadata": {},
     "output_type": "execute_result"
    }
   ],
   "source": [
    "df['channel'].value_counts()"
   ]
  },
  {
   "cell_type": "code",
   "execution_count": 14,
   "id": "b933305e",
   "metadata": {},
   "outputs": [
    {
     "data": {
      "text/plain": [
       "click_time\n",
       "2017-11-08 12:01:02    7\n",
       "2017-11-07 05:00:11    6\n",
       "2017-11-08 13:32:05    6\n",
       "2017-11-09 14:46:23    6\n",
       "2017-11-07 04:36:16    6\n",
       "                      ..\n",
       "2017-11-08 14:46:16    1\n",
       "2017-11-09 10:24:23    1\n",
       "2017-11-07 05:03:14    1\n",
       "2017-11-08 08:14:37    1\n",
       "2017-11-08 09:35:17    1\n",
       "Name: count, Length: 80350, dtype: int64"
      ]
     },
     "execution_count": 14,
     "metadata": {},
     "output_type": "execute_result"
    }
   ],
   "source": [
    "df['click_time'].value_counts()"
   ]
  },
  {
   "cell_type": "code",
   "execution_count": 15,
   "id": "628be9c8",
   "metadata": {},
   "outputs": [
    {
     "data": {
      "text/plain": [
       "attributed_time\n",
       "2017-11-08 02:22:38    1\n",
       "2017-11-08 06:10:37    1\n",
       "2017-11-07 11:59:05    1\n",
       "2017-11-09 11:52:01    1\n",
       "2017-11-08 01:55:02    1\n",
       "                      ..\n",
       "2017-11-09 09:24:31    1\n",
       "2017-11-09 11:20:15    1\n",
       "2017-11-08 14:58:38    1\n",
       "2017-11-08 15:37:58    1\n",
       "2017-11-08 15:09:40    1\n",
       "Name: count, Length: 227, dtype: int64"
      ]
     },
     "execution_count": 15,
     "metadata": {},
     "output_type": "execute_result"
    }
   ],
   "source": [
    "df['attributed_time'].value_counts()"
   ]
  },
  {
   "cell_type": "code",
   "execution_count": 16,
   "id": "c3e3ada0",
   "metadata": {},
   "outputs": [
    {
     "data": {
      "text/plain": [
       "is_attributed\n",
       "0    99.773\n",
       "1     0.227\n",
       "Name: count, dtype: float64"
      ]
     },
     "execution_count": 16,
     "metadata": {},
     "output_type": "execute_result"
    }
   ],
   "source": [
    "df['is_attributed'].value_counts()/len(df)*100"
   ]
  },
  {
   "cell_type": "code",
   "execution_count": 17,
   "id": "97af2760",
   "metadata": {},
   "outputs": [
    {
     "data": {
      "text/plain": [
       "click_time\n",
       "2017-11-08 12:01:02    7\n",
       "2017-11-07 05:00:11    6\n",
       "2017-11-08 13:32:05    6\n",
       "2017-11-09 14:46:23    6\n",
       "2017-11-07 04:36:16    6\n",
       "                      ..\n",
       "2017-11-08 14:46:16    1\n",
       "2017-11-09 10:24:23    1\n",
       "2017-11-07 05:03:14    1\n",
       "2017-11-08 08:14:37    1\n",
       "2017-11-08 09:35:17    1\n",
       "Name: count, Length: 80350, dtype: int64"
      ]
     },
     "execution_count": 17,
     "metadata": {},
     "output_type": "execute_result"
    }
   ],
   "source": [
    "df['click_time'].value_counts()"
   ]
  },
  {
   "cell_type": "code",
   "execution_count": 18,
   "id": "3c7f71f0",
   "metadata": {},
   "outputs": [],
   "source": [
    "df['click_time'] = pd.to_datetime(df['click_time'])\n"
   ]
  },
  {
   "cell_type": "code",
   "execution_count": 19,
   "id": "1775a7cc",
   "metadata": {},
   "outputs": [],
   "source": [
    "df['click_time_year'] = df['click_time'].dt.year\n",
    "df['click_time_month'] = df['click_time'].dt.month\n",
    "df['click_time_day'] = df['click_time'].dt.day\n",
    "df['click_time_hour'] = df['click_time'].dt.hour\n",
    "df['click_time_minute'] = df['click_time'].dt.minute\n",
    "df['click_time_second'] = df['click_time'].dt.second"
   ]
  },
  {
   "cell_type": "code",
   "execution_count": 20,
   "id": "a9436618",
   "metadata": {},
   "outputs": [
    {
     "data": {
      "text/html": [
       "<div>\n",
       "<style scoped>\n",
       "    .dataframe tbody tr th:only-of-type {\n",
       "        vertical-align: middle;\n",
       "    }\n",
       "\n",
       "    .dataframe tbody tr th {\n",
       "        vertical-align: top;\n",
       "    }\n",
       "\n",
       "    .dataframe thead th {\n",
       "        text-align: right;\n",
       "    }\n",
       "</style>\n",
       "<table border=\"1\" class=\"dataframe\">\n",
       "  <thead>\n",
       "    <tr style=\"text-align: right;\">\n",
       "      <th></th>\n",
       "      <th>ip</th>\n",
       "      <th>app</th>\n",
       "      <th>device</th>\n",
       "      <th>os</th>\n",
       "      <th>channel</th>\n",
       "      <th>click_time</th>\n",
       "      <th>attributed_time</th>\n",
       "      <th>is_attributed</th>\n",
       "      <th>click_time_year</th>\n",
       "      <th>click_time_month</th>\n",
       "      <th>click_time_day</th>\n",
       "      <th>click_time_hour</th>\n",
       "      <th>click_time_minute</th>\n",
       "      <th>click_time_second</th>\n",
       "    </tr>\n",
       "  </thead>\n",
       "  <tbody>\n",
       "    <tr>\n",
       "      <th>0</th>\n",
       "      <td>87540</td>\n",
       "      <td>12</td>\n",
       "      <td>1</td>\n",
       "      <td>13</td>\n",
       "      <td>497</td>\n",
       "      <td>2017-11-07 09:30:38</td>\n",
       "      <td>NaN</td>\n",
       "      <td>0</td>\n",
       "      <td>2017</td>\n",
       "      <td>11</td>\n",
       "      <td>7</td>\n",
       "      <td>9</td>\n",
       "      <td>30</td>\n",
       "      <td>38</td>\n",
       "    </tr>\n",
       "    <tr>\n",
       "      <th>1</th>\n",
       "      <td>105560</td>\n",
       "      <td>25</td>\n",
       "      <td>1</td>\n",
       "      <td>17</td>\n",
       "      <td>259</td>\n",
       "      <td>2017-11-07 13:40:27</td>\n",
       "      <td>NaN</td>\n",
       "      <td>0</td>\n",
       "      <td>2017</td>\n",
       "      <td>11</td>\n",
       "      <td>7</td>\n",
       "      <td>13</td>\n",
       "      <td>40</td>\n",
       "      <td>27</td>\n",
       "    </tr>\n",
       "    <tr>\n",
       "      <th>2</th>\n",
       "      <td>101424</td>\n",
       "      <td>12</td>\n",
       "      <td>1</td>\n",
       "      <td>19</td>\n",
       "      <td>212</td>\n",
       "      <td>2017-11-07 18:05:24</td>\n",
       "      <td>NaN</td>\n",
       "      <td>0</td>\n",
       "      <td>2017</td>\n",
       "      <td>11</td>\n",
       "      <td>7</td>\n",
       "      <td>18</td>\n",
       "      <td>5</td>\n",
       "      <td>24</td>\n",
       "    </tr>\n",
       "    <tr>\n",
       "      <th>3</th>\n",
       "      <td>94584</td>\n",
       "      <td>13</td>\n",
       "      <td>1</td>\n",
       "      <td>13</td>\n",
       "      <td>477</td>\n",
       "      <td>2017-11-07 04:58:08</td>\n",
       "      <td>NaN</td>\n",
       "      <td>0</td>\n",
       "      <td>2017</td>\n",
       "      <td>11</td>\n",
       "      <td>7</td>\n",
       "      <td>4</td>\n",
       "      <td>58</td>\n",
       "      <td>8</td>\n",
       "    </tr>\n",
       "    <tr>\n",
       "      <th>4</th>\n",
       "      <td>68413</td>\n",
       "      <td>12</td>\n",
       "      <td>1</td>\n",
       "      <td>1</td>\n",
       "      <td>178</td>\n",
       "      <td>2017-11-09 09:00:09</td>\n",
       "      <td>NaN</td>\n",
       "      <td>0</td>\n",
       "      <td>2017</td>\n",
       "      <td>11</td>\n",
       "      <td>9</td>\n",
       "      <td>9</td>\n",
       "      <td>0</td>\n",
       "      <td>9</td>\n",
       "    </tr>\n",
       "  </tbody>\n",
       "</table>\n",
       "</div>"
      ],
      "text/plain": [
       "       ip  app  device  os  channel          click_time attributed_time  \\\n",
       "0   87540   12       1  13      497 2017-11-07 09:30:38             NaN   \n",
       "1  105560   25       1  17      259 2017-11-07 13:40:27             NaN   \n",
       "2  101424   12       1  19      212 2017-11-07 18:05:24             NaN   \n",
       "3   94584   13       1  13      477 2017-11-07 04:58:08             NaN   \n",
       "4   68413   12       1   1      178 2017-11-09 09:00:09             NaN   \n",
       "\n",
       "   is_attributed  click_time_year  click_time_month  click_time_day  \\\n",
       "0              0             2017                11               7   \n",
       "1              0             2017                11               7   \n",
       "2              0             2017                11               7   \n",
       "3              0             2017                11               7   \n",
       "4              0             2017                11               9   \n",
       "\n",
       "   click_time_hour  click_time_minute  click_time_second  \n",
       "0                9                 30                 38  \n",
       "1               13                 40                 27  \n",
       "2               18                  5                 24  \n",
       "3                4                 58                  8  \n",
       "4                9                  0                  9  "
      ]
     },
     "execution_count": 20,
     "metadata": {},
     "output_type": "execute_result"
    }
   ],
   "source": [
    "df.head()"
   ]
  },
  {
   "cell_type": "code",
   "execution_count": 21,
   "id": "97710f57",
   "metadata": {},
   "outputs": [
    {
     "data": {
      "text/plain": [
       "0        NaN\n",
       "1        NaN\n",
       "2        NaN\n",
       "3        NaN\n",
       "4        NaN\n",
       "        ... \n",
       "99995    NaN\n",
       "99996    NaN\n",
       "99997    NaN\n",
       "99998    NaN\n",
       "99999    NaN\n",
       "Name: attributed_time, Length: 100000, dtype: object"
      ]
     },
     "execution_count": 21,
     "metadata": {},
     "output_type": "execute_result"
    }
   ],
   "source": [
    "df['attributed_time']"
   ]
  },
  {
   "cell_type": "code",
   "execution_count": 22,
   "id": "1b5a3ce1",
   "metadata": {},
   "outputs": [],
   "source": [
    "df.drop('attributed_time',axis=1,inplace=True)"
   ]
  },
  {
   "cell_type": "code",
   "execution_count": 23,
   "id": "5abfd6a1",
   "metadata": {},
   "outputs": [
    {
     "name": "stdout",
     "output_type": "stream",
     "text": [
      "<class 'pandas.core.frame.DataFrame'>\n",
      "RangeIndex: 100000 entries, 0 to 99999\n",
      "Data columns (total 13 columns):\n",
      " #   Column             Non-Null Count   Dtype         \n",
      "---  ------             --------------   -----         \n",
      " 0   ip                 100000 non-null  int64         \n",
      " 1   app                100000 non-null  int64         \n",
      " 2   device             100000 non-null  int64         \n",
      " 3   os                 100000 non-null  int64         \n",
      " 4   channel            100000 non-null  int64         \n",
      " 5   click_time         100000 non-null  datetime64[ns]\n",
      " 6   is_attributed      100000 non-null  int64         \n",
      " 7   click_time_year    100000 non-null  int32         \n",
      " 8   click_time_month   100000 non-null  int32         \n",
      " 9   click_time_day     100000 non-null  int32         \n",
      " 10  click_time_hour    100000 non-null  int32         \n",
      " 11  click_time_minute  100000 non-null  int32         \n",
      " 12  click_time_second  100000 non-null  int32         \n",
      "dtypes: datetime64[ns](1), int32(6), int64(6)\n",
      "memory usage: 7.6 MB\n"
     ]
    }
   ],
   "source": [
    "df.info()"
   ]
  },
  {
   "cell_type": "code",
   "execution_count": 24,
   "id": "c48ed553",
   "metadata": {},
   "outputs": [],
   "source": [
    "df['ip_count']=df.groupby('ip')['channel'].transform('count')"
   ]
  },
  {
   "cell_type": "code",
   "execution_count": 25,
   "id": "6e8b1ee9",
   "metadata": {},
   "outputs": [
    {
     "data": {
      "text/html": [
       "<div>\n",
       "<style scoped>\n",
       "    .dataframe tbody tr th:only-of-type {\n",
       "        vertical-align: middle;\n",
       "    }\n",
       "\n",
       "    .dataframe tbody tr th {\n",
       "        vertical-align: top;\n",
       "    }\n",
       "\n",
       "    .dataframe thead th {\n",
       "        text-align: right;\n",
       "    }\n",
       "</style>\n",
       "<table border=\"1\" class=\"dataframe\">\n",
       "  <thead>\n",
       "    <tr style=\"text-align: right;\">\n",
       "      <th></th>\n",
       "      <th>ip</th>\n",
       "      <th>app</th>\n",
       "      <th>device</th>\n",
       "      <th>os</th>\n",
       "      <th>channel</th>\n",
       "      <th>click_time</th>\n",
       "      <th>is_attributed</th>\n",
       "      <th>click_time_year</th>\n",
       "      <th>click_time_month</th>\n",
       "      <th>click_time_day</th>\n",
       "      <th>click_time_hour</th>\n",
       "      <th>click_time_minute</th>\n",
       "      <th>click_time_second</th>\n",
       "      <th>ip_count</th>\n",
       "    </tr>\n",
       "  </thead>\n",
       "  <tbody>\n",
       "    <tr>\n",
       "      <th>0</th>\n",
       "      <td>87540</td>\n",
       "      <td>12</td>\n",
       "      <td>1</td>\n",
       "      <td>13</td>\n",
       "      <td>497</td>\n",
       "      <td>2017-11-07 09:30:38</td>\n",
       "      <td>0</td>\n",
       "      <td>2017</td>\n",
       "      <td>11</td>\n",
       "      <td>7</td>\n",
       "      <td>9</td>\n",
       "      <td>30</td>\n",
       "      <td>38</td>\n",
       "      <td>8</td>\n",
       "    </tr>\n",
       "    <tr>\n",
       "      <th>1</th>\n",
       "      <td>105560</td>\n",
       "      <td>25</td>\n",
       "      <td>1</td>\n",
       "      <td>17</td>\n",
       "      <td>259</td>\n",
       "      <td>2017-11-07 13:40:27</td>\n",
       "      <td>0</td>\n",
       "      <td>2017</td>\n",
       "      <td>11</td>\n",
       "      <td>7</td>\n",
       "      <td>13</td>\n",
       "      <td>40</td>\n",
       "      <td>27</td>\n",
       "      <td>149</td>\n",
       "    </tr>\n",
       "    <tr>\n",
       "      <th>2</th>\n",
       "      <td>101424</td>\n",
       "      <td>12</td>\n",
       "      <td>1</td>\n",
       "      <td>19</td>\n",
       "      <td>212</td>\n",
       "      <td>2017-11-07 18:05:24</td>\n",
       "      <td>0</td>\n",
       "      <td>2017</td>\n",
       "      <td>11</td>\n",
       "      <td>7</td>\n",
       "      <td>18</td>\n",
       "      <td>5</td>\n",
       "      <td>24</td>\n",
       "      <td>2</td>\n",
       "    </tr>\n",
       "    <tr>\n",
       "      <th>3</th>\n",
       "      <td>94584</td>\n",
       "      <td>13</td>\n",
       "      <td>1</td>\n",
       "      <td>13</td>\n",
       "      <td>477</td>\n",
       "      <td>2017-11-07 04:58:08</td>\n",
       "      <td>0</td>\n",
       "      <td>2017</td>\n",
       "      <td>11</td>\n",
       "      <td>7</td>\n",
       "      <td>4</td>\n",
       "      <td>58</td>\n",
       "      <td>8</td>\n",
       "      <td>3</td>\n",
       "    </tr>\n",
       "    <tr>\n",
       "      <th>4</th>\n",
       "      <td>68413</td>\n",
       "      <td>12</td>\n",
       "      <td>1</td>\n",
       "      <td>1</td>\n",
       "      <td>178</td>\n",
       "      <td>2017-11-09 09:00:09</td>\n",
       "      <td>0</td>\n",
       "      <td>2017</td>\n",
       "      <td>11</td>\n",
       "      <td>9</td>\n",
       "      <td>9</td>\n",
       "      <td>0</td>\n",
       "      <td>9</td>\n",
       "      <td>4</td>\n",
       "    </tr>\n",
       "  </tbody>\n",
       "</table>\n",
       "</div>"
      ],
      "text/plain": [
       "       ip  app  device  os  channel          click_time  is_attributed  \\\n",
       "0   87540   12       1  13      497 2017-11-07 09:30:38              0   \n",
       "1  105560   25       1  17      259 2017-11-07 13:40:27              0   \n",
       "2  101424   12       1  19      212 2017-11-07 18:05:24              0   \n",
       "3   94584   13       1  13      477 2017-11-07 04:58:08              0   \n",
       "4   68413   12       1   1      178 2017-11-09 09:00:09              0   \n",
       "\n",
       "   click_time_year  click_time_month  click_time_day  click_time_hour  \\\n",
       "0             2017                11               7                9   \n",
       "1             2017                11               7               13   \n",
       "2             2017                11               7               18   \n",
       "3             2017                11               7                4   \n",
       "4             2017                11               9                9   \n",
       "\n",
       "   click_time_minute  click_time_second  ip_count  \n",
       "0                 30                 38         8  \n",
       "1                 40                 27       149  \n",
       "2                  5                 24         2  \n",
       "3                 58                  8         3  \n",
       "4                  0                  9         4  "
      ]
     },
     "execution_count": 25,
     "metadata": {},
     "output_type": "execute_result"
    }
   ],
   "source": [
    "df.head()"
   ]
  },
  {
   "cell_type": "code",
   "execution_count": 26,
   "id": "91ddfca3",
   "metadata": {},
   "outputs": [],
   "source": [
    "df['channel_app_count'] = df.groupby('app')['channel'].transform('count')\n",
    "df['channel_device_count']  = df.groupby('device')['channel'].transform('count')\n",
    "df['channel_os_count'] = df.groupby('os')['channel'].transform('count')"
   ]
  },
  {
   "cell_type": "code",
   "execution_count": 27,
   "id": "45341110",
   "metadata": {},
   "outputs": [],
   "source": [
    "df['ip_app_unique'] = df.groupby('ip')['app'].transform('nunique')\n",
    "df['ip_device_unique'] = df.groupby('ip')['device'].transform('nunique')"
   ]
  },
  {
   "cell_type": "code",
   "execution_count": 28,
   "id": "c6351958",
   "metadata": {},
   "outputs": [
    {
     "name": "stdout",
     "output_type": "stream",
     "text": [
      "<class 'pandas.core.frame.DataFrame'>\n",
      "RangeIndex: 100000 entries, 0 to 99999\n",
      "Data columns (total 19 columns):\n",
      " #   Column                Non-Null Count   Dtype         \n",
      "---  ------                --------------   -----         \n",
      " 0   ip                    100000 non-null  int64         \n",
      " 1   app                   100000 non-null  int64         \n",
      " 2   device                100000 non-null  int64         \n",
      " 3   os                    100000 non-null  int64         \n",
      " 4   channel               100000 non-null  int64         \n",
      " 5   click_time            100000 non-null  datetime64[ns]\n",
      " 6   is_attributed         100000 non-null  int64         \n",
      " 7   click_time_year       100000 non-null  int32         \n",
      " 8   click_time_month      100000 non-null  int32         \n",
      " 9   click_time_day        100000 non-null  int32         \n",
      " 10  click_time_hour       100000 non-null  int32         \n",
      " 11  click_time_minute     100000 non-null  int32         \n",
      " 12  click_time_second     100000 non-null  int32         \n",
      " 13  ip_count              100000 non-null  int64         \n",
      " 14  channel_app_count     100000 non-null  int64         \n",
      " 15  channel_device_count  100000 non-null  int64         \n",
      " 16  channel_os_count      100000 non-null  int64         \n",
      " 17  ip_app_unique         100000 non-null  int64         \n",
      " 18  ip_device_unique      100000 non-null  int64         \n",
      "dtypes: datetime64[ns](1), int32(6), int64(12)\n",
      "memory usage: 12.2 MB\n"
     ]
    }
   ],
   "source": [
    "df.info()"
   ]
  },
  {
   "cell_type": "code",
   "execution_count": 29,
   "id": "ecaacef3",
   "metadata": {},
   "outputs": [],
   "source": [
    "df.drop('click_time',axis=1,inplace=True)"
   ]
  },
  {
   "cell_type": "code",
   "execution_count": 30,
   "id": "fc1c8dec",
   "metadata": {},
   "outputs": [
    {
     "name": "stdout",
     "output_type": "stream",
     "text": [
      "<class 'pandas.core.frame.DataFrame'>\n",
      "RangeIndex: 100000 entries, 0 to 99999\n",
      "Data columns (total 18 columns):\n",
      " #   Column                Non-Null Count   Dtype\n",
      "---  ------                --------------   -----\n",
      " 0   ip                    100000 non-null  int64\n",
      " 1   app                   100000 non-null  int64\n",
      " 2   device                100000 non-null  int64\n",
      " 3   os                    100000 non-null  int64\n",
      " 4   channel               100000 non-null  int64\n",
      " 5   is_attributed         100000 non-null  int64\n",
      " 6   click_time_year       100000 non-null  int32\n",
      " 7   click_time_month      100000 non-null  int32\n",
      " 8   click_time_day        100000 non-null  int32\n",
      " 9   click_time_hour       100000 non-null  int32\n",
      " 10  click_time_minute     100000 non-null  int32\n",
      " 11  click_time_second     100000 non-null  int32\n",
      " 12  ip_count              100000 non-null  int64\n",
      " 13  channel_app_count     100000 non-null  int64\n",
      " 14  channel_device_count  100000 non-null  int64\n",
      " 15  channel_os_count      100000 non-null  int64\n",
      " 16  ip_app_unique         100000 non-null  int64\n",
      " 17  ip_device_unique      100000 non-null  int64\n",
      "dtypes: int32(6), int64(12)\n",
      "memory usage: 11.4 MB\n"
     ]
    }
   ],
   "source": [
    "df.info()"
   ]
  },
  {
   "cell_type": "code",
   "execution_count": 31,
   "id": "71f2207e",
   "metadata": {},
   "outputs": [
    {
     "data": {
      "text/plain": [
       "channel_os_count\n",
       "23870    0.23870\n",
       "21223    0.21223\n",
       "5232     0.05232\n",
       "4830     0.04830\n",
       "4039     0.04039\n",
       "          ...   \n",
       "14       0.00014\n",
       "12       0.00012\n",
       "9        0.00009\n",
       "7        0.00007\n",
       "6        0.00006\n",
       "Name: proportion, Length: 73, dtype: float64"
      ]
     },
     "execution_count": 31,
     "metadata": {},
     "output_type": "execute_result"
    }
   ],
   "source": [
    "df['channel_os_count'].value_counts(normalize=True)"
   ]
  },
  {
   "cell_type": "code",
   "execution_count": 32,
   "id": "ce9b64ad",
   "metadata": {},
   "outputs": [],
   "source": [
    "for col in ['ip', 'app', 'device', 'os', 'channel']:\n",
    "    freq = df[col].value_counts(normalize=True)\n",
    "    df[col + '_freq'] = df[col].map(freq)\n"
   ]
  },
  {
   "cell_type": "code",
   "execution_count": 33,
   "id": "13f192a0",
   "metadata": {},
   "outputs": [
    {
     "name": "stdout",
     "output_type": "stream",
     "text": [
      "<class 'pandas.core.frame.DataFrame'>\n",
      "RangeIndex: 100000 entries, 0 to 99999\n",
      "Data columns (total 23 columns):\n",
      " #   Column                Non-Null Count   Dtype  \n",
      "---  ------                --------------   -----  \n",
      " 0   ip                    100000 non-null  int64  \n",
      " 1   app                   100000 non-null  int64  \n",
      " 2   device                100000 non-null  int64  \n",
      " 3   os                    100000 non-null  int64  \n",
      " 4   channel               100000 non-null  int64  \n",
      " 5   is_attributed         100000 non-null  int64  \n",
      " 6   click_time_year       100000 non-null  int32  \n",
      " 7   click_time_month      100000 non-null  int32  \n",
      " 8   click_time_day        100000 non-null  int32  \n",
      " 9   click_time_hour       100000 non-null  int32  \n",
      " 10  click_time_minute     100000 non-null  int32  \n",
      " 11  click_time_second     100000 non-null  int32  \n",
      " 12  ip_count              100000 non-null  int64  \n",
      " 13  channel_app_count     100000 non-null  int64  \n",
      " 14  channel_device_count  100000 non-null  int64  \n",
      " 15  channel_os_count      100000 non-null  int64  \n",
      " 16  ip_app_unique         100000 non-null  int64  \n",
      " 17  ip_device_unique      100000 non-null  int64  \n",
      " 18  ip_freq               100000 non-null  float64\n",
      " 19  app_freq              100000 non-null  float64\n",
      " 20  device_freq           100000 non-null  float64\n",
      " 21  os_freq               100000 non-null  float64\n",
      " 22  channel_freq          100000 non-null  float64\n",
      "dtypes: float64(5), int32(6), int64(12)\n",
      "memory usage: 15.3 MB\n"
     ]
    }
   ],
   "source": [
    "df.info()"
   ]
  },
  {
   "cell_type": "code",
   "execution_count": 34,
   "id": "c415904f",
   "metadata": {},
   "outputs": [],
   "source": [
    "df['click_time'] = pd.to_datetime(\n",
    "        df['click_time_year'].astype(str) + \"-\" +\n",
    "        df['click_time_month'].astype(str) + \"-\" +\n",
    "        df['click_time_day'].astype(str) + \" \" +\n",
    "        df['click_time_hour'].astype(str) + \":\" +\n",
    "        df['click_time_minute'].astype(str) + \":\" +\n",
    "        df['click_time_second'].astype(str)\n",
    "    )"
   ]
  },
  {
   "cell_type": "code",
   "execution_count": 35,
   "id": "0b5e9cb4",
   "metadata": {},
   "outputs": [],
   "source": [
    "df['day_of_week'] = df['click_time'].dt.dayofweek"
   ]
  },
  {
   "cell_type": "code",
   "execution_count": 36,
   "id": "32257066",
   "metadata": {},
   "outputs": [],
   "source": [
    "df['is_weekend']=df['day_of_week'].isin([5,6]).astype(int)"
   ]
  },
  {
   "cell_type": "code",
   "execution_count": 37,
   "id": "282f71fb",
   "metadata": {},
   "outputs": [],
   "source": [
    "df['part_of_day'] = pd.cut(\n",
    "    df['click_time_hour'],\n",
    "    bins=[-1,6,12,18,24],\n",
    "    labels=['night','morning','afternoon','evening']\n",
    ")"
   ]
  },
  {
   "cell_type": "code",
   "execution_count": 38,
   "id": "463bcc21",
   "metadata": {},
   "outputs": [],
   "source": [
    "df = df.sort_values(['ip','click_time'])"
   ]
  },
  {
   "cell_type": "code",
   "execution_count": 39,
   "id": "758ca18a",
   "metadata": {},
   "outputs": [],
   "source": [
    "df['time_since_last_click'] = (\n",
    "    df.groupby('ip')['click_time']\n",
    "    .diff().dt.total_seconds()\n",
    "    .fillna(-1)\n",
    ")"
   ]
  },
  {
   "cell_type": "code",
   "execution_count": 40,
   "id": "407fcbc7",
   "metadata": {},
   "outputs": [],
   "source": [
    "df['ip_app_count'] = df.groupby(['ip','app'])['channel'].transform('count')\n",
    "df['ip_channel_count'] = df.groupby(['ip','channel'])['app'].transform('count')\n",
    "df['app_channel_count'] = df.groupby(['app','channel'])['ip'].transform('count')"
   ]
  },
  {
   "cell_type": "code",
   "execution_count": 41,
   "id": "fd5e6b9a",
   "metadata": {},
   "outputs": [],
   "source": [
    "df['ip_click_count'] = df.groupby('ip')['channel'].transform('count')\n",
    "df['app_click_count'] = df.groupby('app')['channel'].transform('count')"
   ]
  },
  {
   "cell_type": "code",
   "execution_count": 42,
   "id": "0cc8bfe0",
   "metadata": {},
   "outputs": [],
   "source": [
    "df['ip_app_ratio'] = df['ip_app_unique']/(df['ip_click_count']+1e-6)"
   ]
  },
  {
   "cell_type": "code",
   "execution_count": 43,
   "id": "8474f9be",
   "metadata": {},
   "outputs": [],
   "source": [
    "df['ip_device_ratio'] = df['ip_device_unique']/(df['ip_click_count']+1e-6)"
   ]
  },
  {
   "cell_type": "code",
   "execution_count": 44,
   "id": "e222a07c",
   "metadata": {},
   "outputs": [],
   "source": [
    "df['ip_vs_app_click'] = df['ip_click_count']/(df['app_click_count']+1e-6)"
   ]
  },
  {
   "cell_type": "code",
   "execution_count": 45,
   "id": "98a68ce1",
   "metadata": {},
   "outputs": [],
   "source": [
    "def rolling_count(g):\n",
    "    g = g.set_index('click_time')\n",
    "    return g.rolling('60s').count()['ip'].reset_index(drop=True)"
   ]
  },
  {
   "cell_type": "code",
   "execution_count": null,
   "id": "58caaed4",
   "metadata": {},
   "outputs": [],
   "source": [
    "df['rolling_clicks_1min'] = (\n",
    "    df.groupby('ip',group_keys=False)\n",
    "    .apply(rolling_count)\n",
    "    .reset_index(drop=True)\n",
    ")"
   ]
  },
  {
   "cell_type": "code",
   "execution_count": null,
   "id": "ca225979",
   "metadata": {},
   "outputs": [],
   "source": []
  }
 ],
 "metadata": {
  "kernelspec": {
   "display_name": "venv",
   "language": "python",
   "name": "python3"
  },
  "language_info": {
   "codemirror_mode": {
    "name": "ipython",
    "version": 3
   },
   "file_extension": ".py",
   "mimetype": "text/x-python",
   "name": "python",
   "nbconvert_exporter": "python",
   "pygments_lexer": "ipython3",
   "version": "3.12.0"
  }
 },
 "nbformat": 4,
 "nbformat_minor": 5
}
